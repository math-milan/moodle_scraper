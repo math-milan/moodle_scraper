{
 "cells": [
  {
   "cell_type": "code",
   "execution_count": 3,
   "metadata": {},
   "outputs": [],
   "source": [
    "import configparser\n",
    "import os"
   ]
  },
  {
   "cell_type": "code",
   "execution_count": null,
   "metadata": {},
   "outputs": [],
   "source": [
    "\"\"\"\n",
    "This file contains a helper to creat the config file for the moodle_downloader.\n",
    "You have to enter the url of your moodle server and your username and password.\n",
    "Also you have to the url to the login page and the url to the course page.\n",
    "If your moodle page dose not look like the Moodle in the doc you have to change every scope of the \n",
    "boutifulsoup parser.\n",
    "\"\"\""
   ]
  },
  {
   "cell_type": "code",
   "execution_count": 4,
   "metadata": {},
   "outputs": [],
   "source": [
    "c = configparser.ConfigParser()\n",
    "\n",
    "path = '../config.ini'"
   ]
  },
  {
   "cell_type": "code",
   "execution_count": 5,
   "metadata": {},
   "outputs": [],
   "source": [
    "def save_config():\n",
    "    with open(path, 'w') as configfile:\n",
    "        c.write(configfile)"
   ]
  },
  {
   "cell_type": "code",
   "execution_count": 6,
   "metadata": {},
   "outputs": [],
   "source": [
    "# LOGIN section defines username and password for logging in to Moodle\n",
    "c[\"LOGIN\"] = {\n",
    "    \"user\": \"user\",\n",
    "    \"pwd\": \"pwd\",\n",
    "\n",
    "    \"account_path\": \"account.json\",\n",
    "    \"download_path\": \"downloads/\"\n",
    "}\n",
    "\n",
    "\n",
    "\n",
    "# MOODLE_URLS section defines the base URL, login URL, and courses URL for accessing Moodle\n",
    "c['MOODLE_URLS'] = {\n",
    "    \"base_url\": \"https://moodle.rbz-technik.de/\",\n",
    "    \"login_url\": \"login/index.php\",\n",
    "    \"courses_url\": \"course/index.php?categoryid=405\"\n",
    "}\n",
    "\n",
    "# MOODLE_COURSES section defines the HTML tags and attributes for locating courses and their links on the Moodle webpage\n",
    "# The Site has to be static and not containing any dynamic content like any JavaScript\n",
    "c[\"MOODLE_COURSES\"] = {\n",
    "    \"region_tag\": \"div\",\n",
    "    \"region_type\": \"class\",\n",
    "    \"region_type_value\": \"courses category-browse category-browse-405\",\n",
    "\n",
    "    \"course_tag\": \"a\",\n",
    "    \"course_type\": \"class\",\n",
    "    \"course_type_value\": \"aalink\",\n",
    "    \"link_type\": \"href\"  \n",
    "}\n",
    "\n",
    "c[\"MOODLE_COURSE_NAV\"] = {\n",
    "    \"region_tag\": \"ul\",\n",
    "    \"region_type\": \"class\",\n",
    "    \"region_type_value\": \"nav nav-tabs mb-3\",\n",
    "\n",
    "    \"course_nav_tag\": \"a\",\n",
    "    \"course_nav_type\": \"class\",\n",
    "    \"course_nav_type_value\": \"nav-link\"\n",
    "}\n",
    "\n",
    "c[\"MOODLE_MAIN_COUNTENT\"] = {\n",
    "    \"region_tag\": \"ul\",\n",
    "    \"region_type\": \"class\",\n",
    "    \"region_type_value\": \"topics\",\n",
    "\n",
    "    \"content_tag\": \"a\",\n",
    "    \"content_type\": \"class\",\n",
    "    \"content_type_value\": \"aalink\"\n",
    "}\n",
    "\n",
    "c[\"MOODLE_SUB_CONTENT\"] = {\n",
    "    \"region_tag\": \"ul\",\n",
    "    \"region_type\": \"class\",\n",
    "    \"region_type_value\": \"sections\",\n",
    "\n",
    "    \"content_tag\": \"a\",\n",
    "    \"content_type\": \"class\",\n",
    "    \"content_type_value\": \"aalink\"\n",
    "}\n",
    "\n",
    "c[\"MOODLE_FOLDER\"] = {\n",
    "    \"region_tag\": \"div\",\n",
    "    \"region_type\": \"class\",\n",
    "    \"region_type_value\": \"filemanager\",\n",
    "\n",
    "    \"content_tag\": \"a\",\n",
    "    \"content_type\": \"\",\n",
    "    \"content_type_value\": \"\",\n",
    "\n",
    "    \"name_tag\": \"span\",\n",
    "    \"name_type\": \"class\",\t\n",
    "    \"name_type_value\": \"fp-filename\"\n",
    "}\n",
    "\n",
    "c[\"MOODLE_ASSIGNMENT\"] = {\n",
    "    \"region_tag\": \"div\",\n",
    "    \"region_type\": \"class\",\n",
    "    \"region_type_value\": \"ygtvitem\",\n",
    "\n",
    "    \"content_tag\": \"a\",\n",
    "    \"content_type\": \"\",\n",
    "    \"content_type_value\": \"\",\n",
    "\n",
    "    \"name_tag\": \"\",\n",
    "    \"name_type\": \"\",\n",
    "    \"name_type_value\": \"\"\n",
    "\n",
    "}"
   ]
  },
  {
   "cell_type": "code",
   "execution_count": 7,
   "metadata": {},
   "outputs": [],
   "source": [
    "save_config()"
   ]
  }
 ],
 "metadata": {
  "kernelspec": {
   "display_name": "Python 3",
   "language": "python",
   "name": "python3"
  },
  "language_info": {
   "codemirror_mode": {
    "name": "ipython",
    "version": 3
   },
   "file_extension": ".py",
   "mimetype": "text/x-python",
   "name": "python",
   "nbconvert_exporter": "python",
   "pygments_lexer": "ipython3",
   "version": "3.11.2"
  },
  "orig_nbformat": 4,
  "vscode": {
   "interpreter": {
    "hash": "b8f89464d7c0351d54d55b94708b3e91a5e2b31922473694850f8c7b3139e986"
   }
  }
 },
 "nbformat": 4,
 "nbformat_minor": 2
}
